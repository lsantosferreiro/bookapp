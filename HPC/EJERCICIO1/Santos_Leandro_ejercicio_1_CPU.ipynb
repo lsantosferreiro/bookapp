{
  "nbformat": 4,
  "nbformat_minor": 0,
  "metadata": {
    "colab": {
      "name": "EA3 - Ejercicio 1 - CPU.ipynb",
      "private_outputs": true,
      "provenance": [],
      "collapsed_sections": [
        "B4IHd-IqdvT1"
      ]
    },
    "kernelspec": {
      "display_name": "Python 3",
      "name": "python3"
    }
  },
  "cells": [
    {
      "cell_type": "markdown",
      "metadata": {
        "id": "KxbAgQ_ocVES"
      },
      "source": [
        "# 1 Introducción\n",
        "\n",
        "En el siguiente ejercicio se realiza el intercambio de los elementos de un vector a otro de igual dimensión, cada elemento se reubica en la misma posición en la que se encontraba.\n",
        "\n",
        "El algoritmo está basado en la función Swap [3] de la biblioteca BLAS [2].\n",
        "Se busca comparar y analizar la performance del procesamiento de estructuras de una dimensión en GPU y en CPU.\n",
        "\n",
        "Para su implementación en GPU se desarrolló una función kernel que recibe tres parámetros: La cantidad de elementos de los vectores, el puntero al vector X y el puntero al vector Y. Gracias a ésta, el algoritmo utiliza hilos para realizar los intercambios de una manera más eficiente que si se fuera implementado en CPU.\n",
        "\n",
        "Para su implementación en CPU no se necesitó más que desarrollar un simple for con el respectivo intercambio de elementos de los vectores. A diferencia de su implementación en GPU, no son necesarias ejecuciones previas del armado del ambiente."
      ]
    },
    {
      "cell_type": "markdown",
      "metadata": {
        "id": "M-bYqrOYL9hX"
      },
      "source": [
        "---\n",
        "# 2 Armado del ambiente\n",
        "No son necesarias ejecuciones previas del armado del ambiente."
      ]
    },
    {
      "cell_type": "markdown",
      "metadata": {
        "id": "NzQaWRTtc1Zj"
      },
      "source": [
        "---\n",
        "# 3 Desarrollo\n"
      ]
    },
    {
      "cell_type": "code",
      "metadata": {
        "id": "9c7mZSnu0M3m"
      },
      "source": [
        "#@title ## 3.1 Parámetros de ejecución\n",
        "#@markdown ---\n",
        "#@markdown ### Especifique la cantidad de elementos de los vectores:\n",
        "cantidad_N = 10000#@param {type: \"number\"}\n",
        "#@markdown ---\n",
        "\n",
        "#Valida parámetro\n",
        "if cantidad_N <= 0:\n",
        "  print('La cantidad de elemtentos debe ser mayor a cero.')\n",
        "else:\n",
        "  from datetime import datetime\n",
        "  import numpy\n",
        "\n",
        "  #Inicia tiempo total de ejecución\n",
        "  tiempo_total = datetime.now()\n",
        "\n",
        "  #Definición de función que transforma el tiempo en  milisegundos \n",
        "  tiempo_en_ms = lambda dt:(dt.days * 24 * 60 * 60 + dt.seconds) * 1000 + dt.microseconds / 1000.0\n",
        "\n",
        "  try:\n",
        "    #Define la memoria de los vectores en CPU y los setea con números\n",
        "    #enteros aleatorios entre el 1 y el 9\n",
        "    x_cpu = numpy.random.randint(1,10, cantidad_N)\n",
        "    x_cpu = x_cpu.astype(numpy.int64())\n",
        "    y_cpu = numpy.random.randint(1,10, cantidad_N)\n",
        "    y_cpu = y_cpu.astype(numpy.int64())\n",
        "  except:\n",
        "    print('Error al definir en memoria los vectores de CPU.')\n",
        "\n",
        "  #Muestra los vectores iniciales X e Y\n",
        "  print(\"Vector X inicial:\", x_cpu)\n",
        "  print(\"Vector Y inicial:\", y_cpu)\n",
        "\n",
        "  #Inicia el tiempo de bucle\n",
        "  tiempo_bucle = datetime.now()\n",
        "\n",
        "  #Bucle de intercambio\n",
        "  for i in range( 0, cantidad_N ):\n",
        "    aux = x_cpu[i]\n",
        "    x_cpu[i] = y_cpu[i]\n",
        "    y_cpu[i] = aux\n",
        "\n",
        "  #Finaliza el tiempo de bucle\n",
        "  tiempo_bucle = datetime.now() - tiempo_bucle\n",
        "\n",
        "  #Calcula tiempo total de ejecución\n",
        "  tiempo_total = datetime.now() - tiempo_total\n",
        "\n",
        "  #Muestra los vectores finales X e Y\n",
        "  print(\"Vector X final:\", x_cpu)\n",
        "  print(\"Vector Y final:\", y_cpu)\n",
        "\n",
        "  #Muestra los tiempos de bucle y total de ejecución\n",
        "  print(\"Tiempo TOTAL: \", tiempo_en_ms(tiempo_total), \"[ms]\" )\n",
        "  print(\"Tiempo BUCLE: \", tiempo_en_ms(tiempo_bucle), \"[ms]\" )\n"
      ],
      "execution_count": null,
      "outputs": []
    },
    {
      "cell_type": "markdown",
      "metadata": {
        "id": "fwtyQB2tdJuG"
      },
      "source": [
        "---\n",
        "#4 Tabla de pasos\n",
        "Tabla de pasos de la ejecución del programa:\n",
        "\n",
        "Procesador  |Función               |Detalle\n",
        "------------|----------------------|-----------------------------------------\n",
        "CPU         |@param                |Lectura del tamaño de vectores desde Colab.\n",
        "CPU         |if                    |Valida parámetro.\n",
        "CPU         |import                |Importa los módulos para funcionar.\n",
        "CPU         |datetime.now()        |Toma el tiempo actual.\n",
        "CPU         |numpy.random.randint(..)|Inicializa los vectores X e Y con enteros aleatorios entre 1 y 9.\n",
        "CPU         |astype(..)            |Castea los vectores a int64.\n",
        "CPU         |print(..)             |Muestra los vectores iniciales X e Y.\n",
        "CPU         |datetime.now()        |Toma el tiempo actual para calcular el tiempo de bucle.\n",
        "CPU         |for...                |Realiza el intercambio de elementos de los vectores X e Y.\n",
        "CPU         |datetime.now()        |Toma el tiempo actual para calcular el tiempo de bucle.\n",
        "CPU         |datetime.now()        |Toma el tiempo actual para calcular el tiempo total de ejecución.\n",
        "CPU         |print(..)             |Muestra los vectores finales X e Y.\n",
        "CPU         |print(..)             |Informa el total de ejecución.\n",
        "CPU         |print(..)             |Informa el tiempo de bucle.\n",
        "\n"
      ]
    },
    {
      "cell_type": "markdown",
      "metadata": {
        "id": "3PQxHPkDdo42"
      },
      "source": [
        "---\n",
        "# 5 Conclusiones\n",
        "\n",
        "Como una conclusión general y empírica se puede observar que los datos, tras cierta cantidad de ejecuciones, arrojan que el procesamiento a partir de la GPU es muchísimo más eficiente. \n",
        "\n",
        "Por ejemplo: \n",
        "\n",
        "Ejecución de intercambio de vectores (Con 10000 elementos) en CPU: 11.987 [ms].\n",
        "\n",
        "Ejecución de intercambio de vectores (Con 10000 elementos) en GPU: 0.163 [ms].\n",
        "\n",
        "Se puede ver claramente la diferencia de tiempos entre cada ejecución al momento de realizar los intercambios.\n",
        "\n",
        "Se puede apreciar que si el vector es de un solo elemento no tiene sentido procesarlo con GPU. \n",
        "\n",
        "Ejecución de intercambio de vectores (Con 1 elemento) en CPU: 0.089 [ms].\n",
        "\n",
        "Ejecución de intercambio de vectores (Con 1 elemento) en GPU: 0.109 [ms].\n",
        "\n",
        "Esto se debe a que como el hilo hace el context switch manejando su estructura de control, se pierde más tiempo que trabajar el intercambio de manera secuencial."
      ]
    },
    {
      "cell_type": "markdown",
      "metadata": {
        "id": "B4IHd-IqdvT1"
      },
      "source": [
        "---\n",
        "# 6 Bibliografía\n",
        "\n",
        "[1] Introducción a Python: [Página Colab](https://github.com/wvaliente/SOA_HPC/blob/main/Documentos/Python_Basico.ipynb) \n",
        "\n",
        "[2] Función Swap de biblioteca BLAS: [Referencia](https://software.intel.com/content/www/us/en/develop/documentation/mkl-developer-reference-c/top/blas-and-sparse-blas-routines/blas-routines/blas-level-1-routines-and-functions/cblas-swap.html)\n",
        "\n",
        "[3] Biblioteca BLAS: [Referencia](http://www.netlib.org/blas/)\n",
        "\n",
        "[4] Documentación PyCUDA: [WEB](https://documen.tician.de/pycuda/index.html)\n",
        "\n",
        "[5] Repositorio de PyCUDA: [WEB](https://pypi.python.org/pypi/pycuda)\n",
        "\n",
        "[6] ¿QUÉ ES LA COMPUTACIÓN ACELERADA POR GPU?: [Página Nvidia](https://www.nvidia.com/es-la/drivers/what-is-gpu-computing/)\n",
        "\n",
        "[7] Tutorial Point Colab: [PDF](https://github.com/wvaliente/SOA_HPC/blob/main/Documentos/markdown-cheatsheet-online.pdf)"
      ]
    }
  ]
}
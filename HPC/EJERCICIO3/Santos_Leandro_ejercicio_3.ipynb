{
  "nbformat": 4,
  "nbformat_minor": 0,
  "metadata": {
    "colab": {
      "name": "EA3 - Ejercicio 3.ipynb",
      "private_outputs": true,
      "provenance": [],
      "collapsed_sections": [
        "B4IHd-IqdvT1"
      ]
    },
    "kernelspec": {
      "display_name": "Python 3",
      "name": "python3"
    }
  },
  "cells": [
    {
      "cell_type": "markdown",
      "metadata": {
        "id": "KxbAgQ_ocVES"
      },
      "source": [
        "---\n",
        "#1 Introducción\n",
        "En el siguiente ejercicio se realiza la aproximación del número pi por el método de Montecarlo.\n",
        "\n",
        "El algoritmo consiste en la generación de puntos aleatorios en un determinado cuadrante. Si esos puntos, pertenecen al círculo que abarca esa área, se van contando. Finalmente, se utilizan en la siguiente fórmula para aproximarlo:\n",
        "\n",
        "${pi}={4}*\\frac{PuntosDentroDelCirculo}{Puntos Totales}$\n",
        "\n",
        "La idea no es solo desarrollar el algoritmo en sí, sino ver su comparativa en tiempos de procesamiento respecto a las diferentes ejecuciones (Secuencial y en paralelo). Para su implementación se utilizó la interfaz OpenMP que nos permite paralelizar procesos. \n",
        "\n",
        "El código está desarrollado en C, es compilado por el compilador gcc, dicha compilación es ejecutada desde Python. Para finalizar, se realiza la aproximación, pero desde Python, se grafican los puntos obtenidos y su círculo correspondiente y se muestran funcionalidades tales como descargar el gráfico resultante, descargar un excel con los puntos obtenidos o crear una hoja de cálculo en Google Sheets."
      ]
    },
    {
      "cell_type": "markdown",
      "metadata": {
        "id": "M-bYqrOYL9hX"
      },
      "source": [
        "---\n",
        "#2 Armado del ambiente\n",
        "Instala en el cuaderno el módulo gspread de Python.\n"
      ]
    },
    {
      "cell_type": "code",
      "metadata": {
        "id": "q_uMar6hYidD"
      },
      "source": [
        "!pip install --upgrade gspread"
      ],
      "execution_count": null,
      "outputs": []
    },
    {
      "cell_type": "markdown",
      "metadata": {
        "id": "NzQaWRTtc1Zj"
      },
      "source": [
        "---\n",
        "#3 Desarrollo\n",
        "Ejecución del algoritmo.\n"
      ]
    },
    {
      "cell_type": "code",
      "metadata": {
        "id": "9c7mZSnu0M3m"
      },
      "source": [
        "code = \"\"\"\n",
        "#include <stdio.h>\n",
        "#include <math.h>\n",
        "#include <stdlib.h>\n",
        "#include <time.h>\n",
        "#include <unistd.h>\n",
        "#include <sys/time.h>\n",
        "\n",
        "#define SEED time(NULL)\n",
        "#define RANDOM_MOD 0x80000000\n",
        "\n",
        "//Declaración de funciones\n",
        "int calcularCantidadPuntosEnCirculo(const int particion);\n",
        "int random_int(void);\n",
        "double random_double(double rango);\n",
        "\n",
        "int main(int argc, char* argv[])\n",
        "{\n",
        "    //Declaración de variables\n",
        "    int i, contador, cantidad_numeros, particiones, particion;\n",
        "    double x, y, z, pi, tiempo;\n",
        "    struct timeval tiempo_inicio, tiempo_fin, tiempo_total_inicio, tiempo_total_fin;\n",
        "\n",
        "    //Valida los parámetros\n",
        "    if(argc != 2)\n",
        "    {\n",
        "        printf(\"Error de parámetros.\");\n",
        "        return(-1);\n",
        "    }\n",
        "\n",
        "    //Inicia tiempo de ejecución total\n",
        "    gettimeofday(&tiempo_total_inicio, NULL);\n",
        "\n",
        "    //Genera la semilla para números aleatorios\n",
        "    srand(SEED);\n",
        "\n",
        "    //Obtiene el argumento y lo guarda en la variable cantidad_numeros\n",
        "    cantidad_numeros = atoi(argv[1]);\n",
        "    \n",
        "    //Valida los parámetros\n",
        "    if(cantidad_numeros <= 0)\n",
        "    {\n",
        "        printf(\"La cantidad de números debe ser mayor a cero.\");\n",
        "        return(-1);\n",
        "    }\n",
        "\n",
        "    //////Montecarlo Secuencial//////\n",
        "\n",
        "    //Inicia tiempo de Montecarlo secuencial\n",
        "    gettimeofday(&tiempo_inicio, NULL);\n",
        "\n",
        "    //Inicializa el contador\n",
        "    contador = 0;\n",
        "\n",
        "    //Loop Montecarlo secuencial\n",
        "    for(i = 0; i < cantidad_numeros; ++i)\n",
        "    {\n",
        "        //Generan un punto aleatorio\n",
        "        x = (double)rand() / RAND_MAX;\n",
        "        y = (double)rand() / RAND_MAX;\n",
        "\n",
        "        z = x * x + y * y;\n",
        "\n",
        "        //Incrementa si pertenece al círculo\n",
        "        if( z <= 1 )\n",
        "            contador++;\n",
        "    }\n",
        "\n",
        "    //Fórmula Montecarlo\n",
        "    pi = (double) contador / cantidad_numeros * 4;\n",
        "\n",
        "    //Finaliza tiempo de Montecarlo secuencial\n",
        "    gettimeofday(&tiempo_fin, NULL);\n",
        "\n",
        "    //Calcula tiempo de Montecarlo secuencial\n",
        "    tiempo = tiempo_fin.tv_sec + tiempo_fin.tv_usec / 1e6 -\n",
        "                 tiempo_inicio.tv_sec - tiempo_inicio.tv_usec / 1e6;\n",
        "\n",
        "    //Muestra datos de Montecarlo secuencial\n",
        "    printf(\"\\\\n<------------------------------------------------------->\");\n",
        "    printf(\"\\\\nMONTECARLO SECUENCIAL\");\n",
        "    printf(\"\\\\nTiempo de cálculo PI secuencial = %f [seg]\", tiempo);\n",
        "    printf(\"\\\\nAproximación de secuencial = %g\", pi);\n",
        "\n",
        "    //////Montecarlo OpenMP//////\n",
        "    \n",
        "    //Inicia tiempo de Montecarlo OpenMP\n",
        "    gettimeofday(&tiempo_inicio, NULL);\n",
        "\n",
        "    //Inicializo particiones\n",
        "    particiones = 8;\n",
        "    particion = cantidad_numeros / particiones;\n",
        "    contador = 0;\n",
        "\n",
        "    //Inicia procesamiento en paralelo \n",
        "    #pragma omp parallel for shared(particiones, particion) reduction(+:contador)\n",
        "    for (int i = 0; i < particiones; i++)\n",
        "    {\n",
        "        contador += calcularCantidadPuntosEnCirculo(particion);\n",
        "    }\n",
        "\n",
        "    //Fórmula Montecarlo\n",
        "    pi = (double) contador / cantidad_numeros * 4;\n",
        "\n",
        "    //Finaliza tiempo de Montecarlo OpenMP\n",
        "    gettimeofday(&tiempo_fin, NULL);\n",
        "\n",
        "    //Calcula tiempo de Montecarlo OpenMP\n",
        "    tiempo = tiempo_fin.tv_sec + tiempo_fin.tv_usec / 1e6 -\n",
        "                 tiempo_inicio.tv_sec - tiempo_inicio.tv_usec / 1e6;\n",
        "\n",
        "    //Muestra datos de Montecarlo OpenMP     \n",
        "    printf(\"\\\\n<------------------------------------------------------->\");\n",
        "    printf(\"\\\\nMONTECARLO OPENMP\");\n",
        "    printf(\"\\\\nTiempo de cálculo PI OpenMP = %f [seg]\", tiempo);\n",
        "    printf(\"\\\\nAproximación de PI OpenMP = %g\", pi);\n",
        "\n",
        "    //Finaliza tiempo de ejecución total\n",
        "    gettimeofday(&tiempo_total_fin, NULL);\n",
        "\n",
        "    //Calcula tiempo de ejecución total\n",
        "    tiempo = tiempo_total_fin.tv_sec + tiempo_total_fin.tv_usec / 1e6 -\n",
        "                 tiempo_total_inicio.tv_sec - tiempo_total_inicio.tv_usec / 1e6;\n",
        "\n",
        "    //Muestra datos de ejecución\n",
        "    printf(\"\\\\n<------------------------------------------------------->\");\n",
        "    printf(\"\\\\nDATOS DE EJECUCIÓN\");\n",
        "    printf(\"\\\\nTiempo de ejecución total = %f [seg]\", tiempo);\n",
        "    printf(\"\\\\nCantidad de números = %d\", cantidad_numeros);\n",
        "\n",
        "    return(0);\n",
        "}\n",
        "\n",
        "\n",
        "//Función Montecarlo OpenMP\n",
        "int calcularCantidadPuntosEnCirculo(const int particion)\n",
        "{\n",
        "    //Definición de variables\n",
        "    int i, contador, s;\n",
        "    double x,y,z;\n",
        "\n",
        "    //Inicializa el contador\n",
        "    contador = 0;\n",
        "\n",
        "    //Loop Montecarlo OpenMP\n",
        "    for (s = 0; s != particion; s++)\n",
        "    {\n",
        "        //Generan un punto aleatorio\n",
        "        x = random_double(1.0);\n",
        "        y = random_double(1.0);\n",
        "\n",
        "        z = x * x + y * y;\n",
        "\n",
        "        //Incrementa si pertenece al círculo\n",
        "        if( z <= 1 )\n",
        "            contador++;\n",
        "    }\n",
        "    return contador;\n",
        "}\n",
        "\n",
        "//Función para cálculo de número aleatorio de tipo int\n",
        "int random_int(void)\n",
        "{\n",
        "    int estado;\n",
        "    return (estado = (estado * 1103515245 + 12345) & 0x7fffffff);\n",
        "}\n",
        "\n",
        "//Función para cálculo de número aleatorio de tipo double\n",
        "double random_double(double rango)\n",
        "{\n",
        "    return ((double)random_int()) / (((double)RANDOM_MOD)/rango);\n",
        "}\n",
        "\"\"\"\n",
        "try:\n",
        "  text_file = open(\"montecarlo.cpp\", \"w\")\n",
        "  text_file.write(code)\n",
        "  text_file.close()\n",
        "except:\n",
        "  print(\"Error de archivo.\")"
      ],
      "execution_count": null,
      "outputs": []
    },
    {
      "cell_type": "markdown",
      "metadata": {
        "id": "a-YL6orFF9Q-"
      },
      "source": [
        "---\n",
        "## Compilación 3.1\n",
        "Recibe el programa fuente en lenguaje C y genera un programa ejecutable binario en el lenguaje de la máquina en la que se está corriendo.\n"
      ]
    },
    {
      "cell_type": "code",
      "metadata": {
        "id": "XInlRxdvF-rd"
      },
      "source": [
        "try:\n",
        "  !gcc -o montecarlo -fopenmp montecarlo.cpp\n",
        "except:\n",
        "  print(\"Error de compilación.\")"
      ],
      "execution_count": null,
      "outputs": []
    },
    {
      "cell_type": "markdown",
      "metadata": {
        "id": "_sBFP8-JGAGV"
      },
      "source": [
        "---\n",
        "##Ejecución 3.2\n",
        "Inicialmente se define la cantidad de hilos que utilizará OpenMP, luego, se ejecuta el código compilado el cual en su llamado recibe la cantidad de números que utilizará el método de Montecarlo para la aproximación del número pi.\n"
      ]
    },
    {
      "cell_type": "code",
      "metadata": {
        "id": "zlWIle_BGCbF"
      },
      "source": [
        "#Cantidad de hilos\n",
        "%env OMP_NUM_THREADS = 8\n",
        "\n",
        "#Ejecución\n",
        "!./montecarlo 50000"
      ],
      "execution_count": null,
      "outputs": []
    },
    {
      "cell_type": "markdown",
      "metadata": {
        "id": "XebxGBs6vlNw"
      },
      "source": [
        "En las primeras dos secciones de la salida se puede apreciar la diferencia de tiempos de procesamiento entre la ejecución secuencial y la ejecución con OpenMP. En la última sección, se detallan los datos de ejecución (Tiempo de ejecución total y la cantidad de números con la que trabajó el método de Montecarlo)."
      ]
    },
    {
      "cell_type": "markdown",
      "metadata": {
        "id": "OZh9xeGAbwQN"
      },
      "source": [
        "---\n",
        "##3.3 ¡Montecarlo en Python!\n",
        "El siguiente fragmento de código aproxima el número pi bajo el método de Montecarlo pero desde el punto de vista de Python. Además, en él se trabaja con distintas librerías externas con el objetivo de explorar la capacidad de Colab. Estas librerías son tales como: matplotlib.pyplot (Para realizar el gráfico que resulta del método Montecarlo en sí), pandas (Para la confexión de un excel con los puntos obtenidos del algoritmo), gspread (Para crear una hoja de cálculo en Google Sheets con los puntos obtenidos del algoritmo). También, se anexan distintas formas de interacción con el cuaderno de Colab, como es la descarga de archivos, tanto como del gráfico obtenido como del excel generado."
      ]
    },
    {
      "cell_type": "code",
      "metadata": {
        "id": "8zEShXnYbu_d"
      },
      "source": [
        "#@title ### 3.3.1 Parámetros de ejecución\n",
        "#@markdown ---\n",
        "#@markdown ### Especifique la cantidad de números:\n",
        "cantidad_numeros =   1000#@param {type: \"number\"}\n",
        "#@markdown ---\n",
        "\n",
        "#Valida parámetro\n",
        "if cantidad_N <= 0:\n",
        "  print('La cantidad de elemtentos debe ser mayor a cero.')\n",
        "else:\n",
        "  import numpy as np\n",
        "  import matplotlib.pyplot as plt\n",
        "  from google.colab import files\n",
        "  from google.colab import auth\n",
        "  import pandas as pd\n",
        "  import gspread\n",
        "  from oauth2client.client import GoogleCredentials\n",
        "\n",
        "  #Creamos un punto aleatorio entre -1 y 1\n",
        "  def punto():\n",
        "      coordenadas=[np.random.uniform(-1,1), np.random.uniform(-1,1)]\n",
        "      return coordenadas[0]**2+coordenadas[1]**2<1, coordenadas\n",
        "\n",
        "  #Método Montecarlo\n",
        "  def montecarlo(cantidad_numeros):\n",
        "      #Inizializamos contador\n",
        "      contador=0\n",
        "\n",
        "      #Definición de vectores de coordenadas\n",
        "      Xdentro=[]\n",
        "      Ydentro=[]\n",
        "      Xfuera=[]\n",
        "      Yfuera=[]\n",
        "\n",
        "      #Loop Montecarlo\n",
        "      for i in range(cantidad_numeros):\n",
        "          estado, coordenadas = punto()\n",
        "          if estado:\n",
        "              contador+=1\n",
        "              Xdentro.append(coordenadas[0])\n",
        "              Ydentro.append(coordenadas[1])\n",
        "          else:\n",
        "              Xfuera.append(coordenadas[0])\n",
        "              Yfuera.append(coordenadas[1])\n",
        "\n",
        "      #Fórmula Montecarlo y puntos       \n",
        "      return 4*contador/cantidad_numeros, Xdentro, Ydentro, Xfuera, Yfuera\n",
        "\n",
        "  #Calcula PI\n",
        "  pi=montecarlo(cantidad_numeros)\n",
        "\n",
        "  #Define alto y ancho del gráfico en pulgadas\n",
        "  fig=plt.figure(figsize=(7,7))\n",
        "\n",
        "  #Crea una grilla para el gráfico 1x1\n",
        "  ax=fig.add_subplot(1, 1, 1)\n",
        "\n",
        "  #Configura el escalado de los datos para el trazado en el gráfico\n",
        "  ax.set_aspect('equal')\n",
        "\n",
        "  #Grafica el circulo de fondo\n",
        "  circulo = plt.Circle((0, 0), 1, color='0.95', fill=True, zorder=1)\n",
        "  ax.add_artist(circulo)\n",
        "\n",
        "  #Grafica los puntos\n",
        "  ax.scatter(pi[1],pi[2], s=0.2, color='g', marker=\"o\", zorder=2)\n",
        "  ax.scatter(pi[3],pi[4], s=0.2, color='r', marker=\"o\", zorder=3)\n",
        "\n",
        "  #Define los límites visibles del gráfico en X e Y\n",
        "  plt.xlim(-1, 1)\n",
        "  plt.ylim(-1, 1)\n",
        "\n",
        "  #Define el título para el gráfico\n",
        "  plt.title('Aproximación de π - Método Montecarlo')\n",
        "\n",
        "  try:\n",
        "    #Guarda la imagen en el contexto de ejecución del cuaderno Colab\n",
        "    plt.savefig('montecarlo.png')\n",
        "  except:\n",
        "    print(\"No se pudo guardar la imagen en el contexto de ejecución del cuaderno de Colab.\")\n",
        "\n",
        "  #Almacena los puntos en un vector\n",
        "  puntos = [pi[1],pi[2],pi[3],pi[4]]\n",
        "\n",
        "  #Carga los puntos en un dataframe\n",
        "  df = pd.DataFrame(puntos).T\n",
        "\n",
        "  try:\n",
        "    #Guarda el excel en el contexto de ejecución del cuaderno Colab\n",
        "    df.to_excel(excel_writer = 'montecarlo.xlsx')\n",
        "  except:\n",
        "    print(\"No se pudo guardar el excel en el contexto de ejecución del cuaderno de Colab.\")\n",
        "\n",
        "  #Muestra el gráfico\n",
        "  plt.show()\n"
      ],
      "execution_count": null,
      "outputs": []
    },
    {
      "cell_type": "markdown",
      "metadata": {
        "id": "KM_J3pY7l4kV"
      },
      "source": [
        "###3.3.2 Funcionalidades especiales\n",
        "Se pueden ejecutar las siguientes funcionalidades realizadas con intenciones explorativas sobre la capacidad de Colab."
      ]
    },
    {
      "cell_type": "markdown",
      "metadata": {
        "id": "c9Ee7F5UPsE1"
      },
      "source": [
        "####3.3.2.1 Descarga de gráfico\n",
        "##### Se puede descargar el gráfico obtenido en formato PNG ejecutando el siguiente fragmento de código:"
      ]
    },
    {
      "cell_type": "code",
      "metadata": {
        "id": "yuI14wu9PtL0"
      },
      "source": [
        "try:\n",
        "  #Descarga la imagen\n",
        "  files.download('montecarlo.png')\n",
        "except:\n",
        "  print(\"Error al descargar la imagen.\")\n"
      ],
      "execution_count": null,
      "outputs": []
    },
    {
      "cell_type": "markdown",
      "metadata": {
        "id": "VC-j7ieLPuZ8"
      },
      "source": [
        "####3.3.2.2 Descarga de excel\n",
        "#####Se puede descargar un excel con los puntos obtenidos ejecutando el siguiente fragmento de código:"
      ]
    },
    {
      "cell_type": "code",
      "metadata": {
        "id": "0u9C-1_cPvJs"
      },
      "source": [
        "try:\n",
        "  #Descarga el excel\n",
        "  files.download('montecarlo.xlsx')\n",
        "except:\n",
        "  print(\"Error al descargar el excel.\")"
      ],
      "execution_count": null,
      "outputs": []
    },
    {
      "cell_type": "markdown",
      "metadata": {
        "id": "IlU0N8VKQB6b"
      },
      "source": [
        "####3.3.2.3 Crear hoja de cálculo en Google Sheets\n",
        "#####Se puede crear una hoja de cálculo de Google Sheets ejecutando el siguiente fragmento de código:"
      ]
    },
    {
      "cell_type": "code",
      "metadata": {
        "id": "HBngzuFjQBjr"
      },
      "source": [
        "try:\n",
        "  #Solicita la autorización de permisos de Google Sheets\n",
        "  auth.authenticate_user()\n",
        "\n",
        "  #Linkea el permiso\n",
        "  gc = gspread.authorize(GoogleCredentials.get_application_default())\n",
        "except:\n",
        "  print(\"Error de autenticación.\")\n",
        "  \n",
        "try:\n",
        "  #Crea la hoja de cálculo\n",
        "  hc = gc.create('montecarlo')\n",
        "except:\n",
        "  print(\"Error al crear la hoja de cálculo.\")\n",
        "\n",
        "try:\n",
        "  #Abre la hoja de cálculo en su primer página\n",
        "  hoja_de_calculo = gc.open('montecarlo').sheet1\n",
        "except:\n",
        "  print(\"Error al abrir la hoja de cálculo.\")\n",
        "\n",
        "try:\n",
        "  #Inserta los puntos en la hoja de cálculo\n",
        "  hoja_de_calculo.update(puntos)\n",
        "except:\n",
        "  print(\"Error al modificar la hoja de cálculo.\")"
      ],
      "execution_count": null,
      "outputs": []
    },
    {
      "cell_type": "markdown",
      "metadata": {
        "id": "fwtyQB2tdJuG"
      },
      "source": [
        "---\n",
        "#4 Tabla de pasos\n",
        "\n",
        "Entorno     |Función               |Detalle\n",
        "------------|----------------------|-------------------------\n",
        "Colab       |pip install gspread   |Instala en el cuaderno el módulo gspread de Python.\n",
        "C           |include               |Importan las librerías necesarias.\n",
        "C           |define                |Definen constantes.\n",
        "C           |if                    |Valida los parámetros.\n",
        "C           |gettimeofday          |Inicia tiempo de ejecución total.\n",
        "C           |srand                 |Genera la semilla para números aleatorios.\n",
        "C           |atoi                  |Transforma el parámetro de string a int.\n",
        "C           |if                    |Valida los parámetros.\n",
        "C           |gettimeofday          |Inicia tiempo de Montecarlo secuencial.\n",
        "C           |for                   |Loop de Montecarlo secuencial.\n",
        "C           |rand                  |Genera un número aleatorio para X e Y.\n",
        "C           |gettimeofday          |Finaliza tiempo de Montecarlo secuencial.\n",
        "C           |printf                |Muestra los datos de Montecarlo secuencial.\n",
        "C           |gettimeofday          |Inicia tiempo de Montecarlo OpenMP.\n",
        "C           |pragma                |Paralelización.\n",
        "C           |shared                |Especifica variables compartidas entre todos los procesos.\n",
        "C           |reduction             |Especifica la operación de reducción y la variable en donde se almacena.\n",
        "C           |for                   |Loop de Montecarlo OpenMP.\n",
        "C           |random_double         |Genera un número aleatorio para X e Y.\n",
        "C           |gettimeofday          |Finaliza tiempo de Montecarlo OpenMP.\n",
        "C           |printf                |Muestra los datos de Montecarlo OpenMP.\n",
        "C           |gettimeofday          |Finaliza tiempo de ejecución total.\n",
        "C           |printf                |Muestra los datos de ejecución.\n",
        "Colab       |open                  |Abre el archivo en modo de escritura.\n",
        "Colab       |write                 |Escribe en el archivo el código C.\n",
        "Colab       |close                 |Cierra el archivo.\n",
        "Colab       |gcc                   |Recibe el programa fuente en lenguaje C y genera un programa ejecutable binario en el lenguaje de la máquina en la que se está corriendo. Se le indica que se utiliza la interfaz OpenMP.\n",
        "Colab       |%env OMP_NUM_THREADS  |Define la cantidad de hilos que dispondrá OpenMP por medio de la variable de entorno en cuestión.\n",
        "Colab       |montecarlo            |Ejecuta el código.\n",
        "Colab       |if                    |Valida parámetro.\n",
        "Colab       |random.uniform        |Devuelve un número aleatorio entre -1 y 1.\n",
        "Colab       |for                   |Loop Montecarlo.\n",
        "Colab       |append                |Agrega el valor al vector del punto.\n",
        "Colab       |figure                |Define alto y ancho del gráfico en pulgadas.\n",
        "Colab       |add_subplot           |Crea una grilla para el gráfico 1x1.\n",
        "Colab       |set_aspect            |Configura el escalado de los datos para el trazado en el gráfico.\n",
        "Colab       |Circle                |Grafica el círculo de fondo.\n",
        "Colab       |add_artist            |Agrega un Artist al gráfico y lo retorna.\n",
        "Colab       |scatter               |Grafica los puntos.\n",
        "Colab       |xlim / ylim           |Define los límites visibles del gráfico en X e Y.\n",
        "Colab       |title                 |Define el título para el gráfico.\n",
        "Colab       |savefig               |Guarda la imagen en el contexto de ejecución del cuaderno de Colab.\n",
        "Colab       |DataFrame             |Carga los puntos en un dataframe.\n",
        "Colab       |to_excel              |Guarda el excel en el contexto de ejecución del cuaderno de Colab.\n",
        "Colab       |show                  |Muestra el gráfico.\n",
        "Colab       |download              |Descarga la imagen.\n",
        "Colab       |download              |Descarga el excel.\n",
        "Colab       |authenticate_user     |Solicita la autorización de permisos de Google Sheets.\n",
        "Colab       |authorize             |Linkea el permiso.\n",
        "Colab       |create                |Crea la hoja de cálculo.\n",
        "Colab       |open ... sheet1       |Abre la hoja de cálculo en su primer página.\n",
        "Colab       |update                |Inserta los puntos en la hoja de cálculo.\n",
        "\n",
        "\n",
        "\n",
        "\n",
        "\n",
        "\n",
        "\n",
        "\n",
        "\n",
        "\n",
        "\n",
        "\n"
      ]
    },
    {
      "cell_type": "markdown",
      "metadata": {
        "id": "3PQxHPkDdo42"
      },
      "source": [
        "---\n",
        "#5 Conclusiones\n",
        "\n",
        "Como una conclusión general y empírica se puede observar que los datos, tras cierta cantidad de ejecuciones, arrojan que el procesamiento en paralelo es muchísimo más eficiente para cuando se requiere trabajar con una gran cantidad de números.\n",
        "\n",
        "Por ejemplo:\n",
        "\n",
        "Ejecución de algoritmo secuencial: \n",
        "27.181815 [seg] con 1000000000 números.\n",
        "\n",
        "Ejecución del algoritmo OpenMP: \n",
        "14.380366 [seg] con 1000000000 números.\n",
        "\n",
        "Se puede ver claramente la diferencia de tiempos entre cada ejecución.\n",
        "\n",
        "Se puede apreciar que si la cantidad de números es poca pierde eficiencia el algoritmo OpenMP y pasa a ser mejor el algoritmo secuencial.\n",
        "\n",
        "Ejecución de algoritmo secuencial: \n",
        "0.000313 [seg] con 10000 números.\n",
        "\n",
        "Ejecución del algoritmo OpenMP: \n",
        "0.000548 [seg] con 10000 números.\n",
        "\n",
        "Esto se debe a que como el hilo hace el context switch manejando su estructura de control, se pierde más tiempo que trabajar el intercambio de manera secuencial.\n",
        "\n",
        "Respecto a lo que es el método de Montecarlo en sí... Es un método que es genial para determinar áreas extrañas, sin embargo, se requiere una ENORME cantidad de números aleatorios para que se logre una aproximación a pi acertada, existen otros métodos de aproximación mucho más eficientes que éste.\n",
        "\n",
        "Respecto a la implementación realizada, la precisión del procesamiento secuencial es un poco mejor que la precisión del procesamiento en paralelo.\n",
        "\n",
        "**Comentario personal:**\n",
        "\n",
        "Al momento de generar números aleatorios, con la funcion rand(), dentro del procesamiento en paralelo, la ejecución con OpenMP tardaba 100 veces más que la ejecución secuencial. Tuve que implementar una función para obtener un número seudo aleatorio distinta a ella. Se ve que tiene que ver con que no es thread safe rand(), entonces genera una race condition haciendo realmente ineficiente al procesamiento en paralelo. Luego de implementar mi función el algoritmo mejoró considerablemente y se empezó a comportar como lo esperado."
      ]
    },
    {
      "cell_type": "markdown",
      "metadata": {
        "id": "B4IHd-IqdvT1"
      },
      "source": [
        "---\n",
        "# 6 Bibliografía\n",
        "\n",
        "[1] Introducción a Python: [Página Colab](https://github.com/wvaliente/SOA_HPC/blob/main/Documentos/Python_Basico.ipynb) \n",
        "\n",
        "[2] Colab and Google Sheets — Surprisingly Powerful Combination for Data Science (Part 1): [Medium](https://medium.com/analytics-vidhya/colab-and-google-sheets-surprisingly-powerful-combination-for-data-science-part-1-bbbb11cbd8e)\n",
        "\n",
        "[3] Matplotlib.pyplot: [matplotlib](https://matplotlib.org/api/_as_gen/matplotlib.pyplot.html#module-matplotlib.pyplot)\n",
        "\n",
        "[4] El método Montecarlo: [Geogebra](https://www.geogebra.org/m/cF7RwK3H)\n",
        "\n",
        "[5] Snippets: Sheets - Colaboratory: [Página Colab](https://colab.research.google.com/notebooks/snippets/sheets.ipynb)\n",
        "\n",
        "[6] Charts in Colaboratory - Colaboratory: [Página Colab](https://colab.research.google.com/notebooks/charts.ipynb)\n",
        "\n",
        "[7] Examples of gspread Usage: [gspread](https://gspread.readthedocs.io/en/latest/user-guide.html)\n",
        "\n",
        "[8] Pandas documentation: [pandas](https://pandas.pydata.org/pandas-docs/stable/index.html)\n",
        "\n",
        "[9] How to compile and run an OpenMP program: [Dartmouth](https://www.dartmouth.edu/~rc/classes/intro_openmp/compile_run.html)"
      ]
    }
  ]
}